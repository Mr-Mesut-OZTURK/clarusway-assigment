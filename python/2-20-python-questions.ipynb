{
 "cells": [
  {
   "cell_type": "markdown",
   "metadata": {},
   "source": [
    "# QUESTION 11\n",
    "---\n",
    "\n",
    "Let's learn about list comprehensions! You are given three integers **x**, **y** and **z** representing the dimensions of a cuboid along with an integer **n**. Print a list of all possible coordinates given by **(i,j,k)** on a 3D grid where the sum of **i+j+k** is not equal to . Here, ***0<=i<=x; 0<=j<=y; 1<=k<=z;***. Please use list comprehensions rather than multiple loops, as a learning exercise.\n",
    "\n",
    "> **Example**\n",
    "- x=1\n",
    "- y=1\n",
    "- z=2\n",
    "- n=3\n",
    "\n",
    "All permutations of **[i,j,k]** are:\n",
    "- [[0, 0, 0], [0, 0, 1], [0, 0, 2], [0, 1, 0], [0, 1, 1], [0, 1, 2], [1, 0, 0], [1, 0, 1], [1, 0, 2], [1, 1, 0], [1, 1, 1], [1, 1, 2]]\n",
    "\n",
    "Print an array of the elements that do not sum to **n=3**.\n",
    "- [[0, 0, 0], [0, 0, 1], [0, 0, 2], [0, 1, 0], [0, 1, 1], [1, 0, 0], [1, 0, 1], [1, 1, 0], [1, 1, 2]]\n",
    "\n",
    "> Input Format\n",
    "\n",
    "Four integers **x,y,z** and ,**n** each on a separate line.\n",
    "\n",
    "> Constraints\n",
    "\n",
    "Print the list in lexicographic increasing order.\n",
    "\n",
    "---\n",
    "> Sample Input 0\n",
    "- 1\n",
    "- 1\n",
    "- 1\n",
    "- 2\n",
    "> Sample Output 0\n",
    "```python\n",
    "[[0, 0, 0], [0, 0, 1], [0, 1, 0], [1, 0, 0], [1, 1, 1]]\n",
    "```\n",
    "\n",
    "> Explanation 0\n",
    "- Each variable  and  will have values of  or . All permutations of lists in the form .\n",
    "- Remove all arrays that sum to  to leave only the valid permutations.\n",
    "\n",
    "---\n",
    "> Sample Input 1\n",
    "- 2\n",
    "- 2\n",
    "- 2\n",
    "- 2\n",
    "\n",
    "> Sample Output 1\n",
    "\n",
    "```python\n",
    "[[0, 0, 0], [0, 0, 1], [0, 1, 0], [0, 1, 2], [0, 2, 1], [0, 2, 2], [1, 0, 0], [1, 0, 2], [1, 1, 1], [1, 1, 2], [1, 2, 0], [1, 2, 1], [1, 2, 2], [2, 0, 1], [2, 0, 2], [2, 1, 0], [2, 1, 1], [2, 1, 2], [2, 2, 0], [2, 2, 1], [2, 2, 2]]\n",
    "```"
   ]
  },
  {
   "cell_type": "code",
   "execution_count": null,
   "metadata": {},
   "outputs": [],
   "source": [
    "    x = int(input())\n",
    "    y = int(input())\n",
    "    z = int(input())\n",
    "    n = int(input())\n",
    "\n",
    "    liste1 = [[a,b,c] for a in range(x+1) for b in range(y+1) for c in range(z+1)]\n",
    "    liste2 = [i for i in liste1 if sum(i) != n]\n",
    "    print(liste1)\n",
    "    print(liste2)"
   ]
  },
  {
   "cell_type": "markdown",
   "metadata": {},
   "source": [
    "# QUESTION 12\n",
    "---\n",
    "Given the participants' score sheet for your University Sports Day, you are required to find the runner-up score. You are given **n** scores. Store them in a list and find the score of the runner-up.\n",
    "\n",
    "> Input Format\n",
    "\n",
    "The first line contains **n**. The second line contains an array **A[]**  of **n** integers each separated by a space.\n",
    "\n",
    "> Constraints\n",
    "- 2 <= n <= 10\n",
    "- -100 <= A[i] <= 100\n",
    "\n",
    "> Output Format\n",
    "- Print the runner-up score.\n",
    "---\n",
    "> Sample Input 0\n",
    "> ```python\n",
    "> 5\n",
    "> 2 3 6 6 5\n",
    "> ```\n",
    ">\n",
    "> Sample Output 0\n",
    "> ```python\n",
    "> 5\n",
    "> ```\n",
    ">\n",
    "> Explanation 0\n",
    "\n",
    "> - Given list is . The maximum score is , second maximum is . Hence, we print  as the runner-up score."
   ]
  },
  {
   "cell_type": "code",
   "execution_count": null,
   "metadata": {},
   "outputs": [],
   "source": [
    "n = int(input())\n",
    "arr = map(int, input().split())\n",
    "arr = list(arr)\n",
    "a = max(arr)\n",
    "while a in arr:\n",
    "    arr.remove(max(arr))\n",
    "print(max(arr))"
   ]
  }
 ],
 "metadata": {
  "interpreter": {
   "hash": "88235260e9f937f3ff47077a9833bd167c34ec72878758c39d1cfa9789a0b5fc"
  },
  "kernelspec": {
   "display_name": "Python 3.9.6 64-bit",
   "name": "python3"
  },
  "language_info": {
   "codemirror_mode": {
    "name": "ipython",
    "version": 3
   },
   "file_extension": ".py",
   "mimetype": "text/x-python",
   "name": "python",
   "nbconvert_exporter": "python",
   "pygments_lexer": "ipython3",
   "version": "3.9.6"
  },
  "orig_nbformat": 4
 },
 "nbformat": 4,
 "nbformat_minor": 2
}
