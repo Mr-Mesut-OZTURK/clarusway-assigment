{
 "cells": [
  {
   "cell_type": "markdown",
   "metadata": {},
   "source": [
    "# QUESTION 11\n",
    "---\n",
    "\n",
    "Let's learn about list comprehensions! You are given three integers **x**, **y** and **z** representing the dimensions of a cuboid along with an integer **n**. Print a list of all possible coordinates given by **(i,j,k)** on a 3D grid where the sum of **i+j+k** is not equal to . Here, ***0<=i<=x; 0<=j<=y; 1<=k<=z;***. Please use list comprehensions rather than multiple loops, as a learning exercise.\n",
    "\n",
    "> **Example**\n",
    "- x=1\n",
    "- y=1\n",
    "- z=2\n",
    "- n=3\n",
    "\n",
    "All permutations of **[i,j,k]** are:\n",
    ".\n",
    "\n",
    "Print an array of the elements that do not sum to **n=3**.\n",
    "\n",
    "\n",
    "> Input Format\n",
    "\n",
    "Four integers **x,y,z** and ,**n** each on a separate line.\n",
    "\n",
    "Constraints\n",
    "\n",
    "Print the list in lexicographic increasing order.\n",
    "\n",
    "> Sample Input 0\n",
    "\n",
    "1\n",
    "1\n",
    "1\n",
    "2\n",
    "Sample Output 0\n",
    "\n",
    "[[0, 0, 0], [0, 0, 1], [0, 1, 0], [1, 0, 0], [1, 1, 1]]\n",
    "Explanation 0\n",
    "\n",
    "Each variable  and  will have values of  or . All permutations of lists in the form .\n",
    "Remove all arrays that sum to  to leave only the valid permutations.\n",
    "\n",
    "Sample Input 1\n",
    "\n",
    "2\n",
    "2\n",
    "2\n",
    "2\n",
    "Sample Output 1\n",
    "\n",
    "[[0, 0, 0], [0, 0, 1], [0, 1, 0], [0, 1, 2], [0, 2, 1], [0, 2, 2], [1, 0, 0], [1, 0, 2], [1, 1, 1], [1, 1, 2], [1, 2, 0], [1, 2, 1], [1, 2, 2], [2, 0, 1], [2, 0, 2], [2, 1, 0], [2, 1, 1], [2, 1, 2], [2, 2, 0], [2, 2, 1], [2, 2, 2]]"
   ]
  }
 ],
 "metadata": {
  "language_info": {
   "name": "python"
  },
  "orig_nbformat": 4
 },
 "nbformat": 4,
 "nbformat_minor": 2
}
