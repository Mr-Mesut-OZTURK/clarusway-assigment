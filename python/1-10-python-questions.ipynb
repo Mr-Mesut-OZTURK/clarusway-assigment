{
 "cells": [
  {
   "cell_type": "markdown",
   "source": [
    "## Add the Values of the Symbols in a Matrix\r\n",
    "\r\n",
    "Write a function that takes a list of lists and returns the value of all of the symbols in it, where each symbol adds or takes something from the total score. Symbol values:\r\n",
    "\r\n",
    "\r\n",
    "  - \\# = 5\r\n",
    "  - O = 3\r\n",
    "  - X = 1\r\n",
    "  - ! = -1\r\n",
    "  - !! = -3\r\n",
    "  - !!! = -5\r\n",
    "\r\n",
    ">A list of lists containing 2 #s, a O, and a !!! would equal (0 + 5 + 5 + 3 - 5) 8.\r\n",
    "#\r\n",
    ">If the final score is negative, return 0 (e.g. 3 #s, 3 !!s, 2 !!!s and a X would be (0 + 5 + 5 + 5 - 3 - 3 - 3 - 5 - 5 + 1) -3, so return 0.\r\n",
    "#\r\n",
    "---\r\n",
    "\r\n",
    "```python\r\n",
    "    check_score([\r\n",
    "      [\"#\", \"!\"],\r\n",
    "      [\"!!\", \"X\"]\r\n",
    "    ]) ➞ 2\r\n",
    "\r\n",
    "    check_score([\r\n",
    "      [\"!!!\", \"O\", \"!\"],\r\n",
    "      [\"X\", \"#\", \"!!!\"],\r\n",
    "      [\"!!\", \"X\", \"O\"]\r\n",
    "    ]) ➞ 0\r\n",
    "\r\n",
    "    check_score([\r\n",
    "      [\"#\", \"O\", \"#\", \"!!\", \"X\", \"!!\", \"#\", \"O\", \"O\", \"!!\", \"#\", \"X\", \"#\", \"O\"],\r\n",
    "      [\"!!!\", \"!!!\", \"!!\", \"!!\", \"!\", \"!\", \"X\", \"!\", \"!!!\", \"O\", \"!\", \"!!!\", \"X\", \"#\"],\r\n",
    "      [\"#\", \"X\", \"#\", \"!!!\", \"!\", \"!!\", \"#\", \"#\", \"!!\", \"X\", \"!!\", \"!!!\", \"X\", \"O\"],\r\n",
    "      [\"!!\", \"X\", \"!!\", \"!!\", \"!!!\", \"#\", \"O\", \"O\", \"!!!\", \"#\", \"O\", \"O\", \"#\", \"!!\"],\r\n",
    "      [\"O\", \"X\", \"#\", \"!\", \"!\", \"X\", \"!!!\", \"O\", \"!!!\", \"!!\", \"O\", \"!\", \"O\", \"X\"],\r\n",
    "      [\"!!\", \"!!!\", \"X\", \"!!!\", \"!!\", \"!!\", \"!!!\", \"X\", \"O\", \"!\", \"#\", \"!!\", \"!!\", \"!!!\"],\r\n",
    "      [\"!!\", \"!!\", \"#\", \"O\", \"!\", \"!!\", \"!\", \"!!!\", \"#\", \"O\", \"#\", \"!\", \"#\", \"!!\"],\r\n",
    "      [\"X\", \"X\", \"O\", \"X\", \"!!!\", \"#\", \"!!!\", \"!!!\", \"X\", \"X\", \"X\", \"!\", \"#\", \"!!\"],\r\n",
    "      [\"O\", \"!!!\", \"!\", \"O\", \"#\", \"!\", \"!\", \"#\", \"X\", \"X\", \"#\", \"O\", \"!!\", \"!\"],\r\n",
    "      [\"X\", \"!\", \"!!\", \"#\", \"#\", \"X\", \"!!\", \"O\", \"!!\", \"X\", \"X\", \"!!\", \"#\", \"X\"],\r\n",
    "      [\"!\", \"!!\", \"!!\", \"O\", \"!!\", \"!!\", \"#\", \"#\", \"!\", \"!!!\", \"O\", \"!\", \"#\", \"#\"],\r\n",
    "      [\"!\", \"!!!\", \"!!\", \"X\", \"!!\", \"!!\", \"#\", \"!!!\", \"O\", \"!!\", \"!!!\", \"!\", \"!\", \"!\"],\r\n",
    "      [\"!!!\", \"!!!\", \"!!\", \"O\", \"!\", \"!\", \"!!!\", \"!!!\", \"!!\", \"!!\", \"X\", \"!\", \"#\", \"#\"],\r\n",
    "      [\"O\", \"O\", \"#\", \"O\", \"#\", \"!\", \"!!!\", \"X\", \"X\", \"O\", \"!\", \"!!!\", \"X\", \"O\"]\r\n",
    "    ]) ➞ 12\r\n",
    "```"
   ],
   "metadata": {}
  },
  {
   "cell_type": "code",
   "execution_count": 12,
   "source": [
    "def check_score(params):\r\n",
    "    new_dict = {\"#\" : 5, \"O\" : 3, \"X\" : 1, \"!\" : -1, \"!!\" : -3, \"!!!\" : -5 }\r\n",
    "\r\n",
    "    count = 0\r\n",
    "    total = 0\r\n",
    "\r\n",
    "    for i in params:\r\n",
    "        for ii in i:\r\n",
    "            count += new_dict[ii]\r\n",
    "\r\n",
    "        # print(count)\r\n",
    "        total += count\r\n",
    "        count = 0\r\n",
    "    # print(total)\r\n",
    "    if total < 0:\r\n",
    "        return 0\r\n",
    "    else:\r\n",
    "        return total\r\n",
    "         \r\n",
    "        \r\n"
   ],
   "outputs": [],
   "metadata": {}
  }
 ],
 "metadata": {
  "orig_nbformat": 4,
  "language_info": {
   "name": "python",
   "version": "3.9.6",
   "mimetype": "text/x-python",
   "codemirror_mode": {
    "name": "ipython",
    "version": 3
   },
   "pygments_lexer": "ipython3",
   "nbconvert_exporter": "python",
   "file_extension": ".py"
  },
  "kernelspec": {
   "name": "python3",
   "display_name": "Python 3.9.6 64-bit"
  },
  "interpreter": {
   "hash": "88235260e9f937f3ff47077a9833bd167c34ec72878758c39d1cfa9789a0b5fc"
  }
 },
 "nbformat": 4,
 "nbformat_minor": 2
}