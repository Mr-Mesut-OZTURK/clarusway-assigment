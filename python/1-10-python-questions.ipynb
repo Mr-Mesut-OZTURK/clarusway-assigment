{
 "cells": [
  {
   "cell_type": "markdown",
   "source": [
    "# QUESTİON - 1\r\n",
    "------\r\n",
    "## Add the Values of the Symbols in a Matrix\r\n",
    "\r\n",
    "Write a function that takes a list of lists and returns the value of all of the symbols in it, where each symbol adds or takes something from the total score. Symbol values:\r\n",
    "\r\n",
    "\r\n",
    "  - \\# = 5\r\n",
    "  - O = 3\r\n",
    "  - X = 1\r\n",
    "  - ! = -1\r\n",
    "  - !! = -3\r\n",
    "  - !!! = -5\r\n",
    "\r\n",
    ">A list of lists containing 2 #s, a O, and a !!! would equal (0 + 5 + 5 + 3 - 5) 8.\r\n",
    "#\r\n",
    ">If the final score is negative, return 0 (e.g. 3 #s, 3 !!s, 2 !!!s and a X would be (0 + 5 + 5 + 5 - 3 - 3 - 3 - 5 - 5 + 1) -3, so return 0.\r\n",
    "#\r\n",
    "---\r\n",
    "\r\n",
    "```python\r\n",
    "    check_score([\r\n",
    "      [\"#\", \"!\"],\r\n",
    "      [\"!!\", \"X\"]\r\n",
    "    ]) ➞ 2\r\n",
    "\r\n",
    "    check_score([\r\n",
    "      [\"!!!\", \"O\", \"!\"],\r\n",
    "      [\"X\", \"#\", \"!!!\"],\r\n",
    "      [\"!!\", \"X\", \"O\"]\r\n",
    "    ]) ➞ 0\r\n",
    "\r\n",
    "    check_score([\r\n",
    "      [\"#\", \"O\", \"#\", \"!!\", \"X\", \"!!\", \"#\", \"O\", \"O\", \"!!\", \"#\", \"X\", \"#\", \"O\"],\r\n",
    "      [\"!!!\", \"!!!\", \"!!\", \"!!\", \"!\", \"!\", \"X\", \"!\", \"!!!\", \"O\", \"!\", \"!!!\", \"X\", \"#\"],\r\n",
    "      [\"#\", \"X\", \"#\", \"!!!\", \"!\", \"!!\", \"#\", \"#\", \"!!\", \"X\", \"!!\", \"!!!\", \"X\", \"O\"],\r\n",
    "      [\"!!\", \"X\", \"!!\", \"!!\", \"!!!\", \"#\", \"O\", \"O\", \"!!!\", \"#\", \"O\", \"O\", \"#\", \"!!\"],\r\n",
    "      [\"O\", \"X\", \"#\", \"!\", \"!\", \"X\", \"!!!\", \"O\", \"!!!\", \"!!\", \"O\", \"!\", \"O\", \"X\"],\r\n",
    "      [\"!!\", \"!!!\", \"X\", \"!!!\", \"!!\", \"!!\", \"!!!\", \"X\", \"O\", \"!\", \"#\", \"!!\", \"!!\", \"!!!\"],\r\n",
    "      [\"!!\", \"!!\", \"#\", \"O\", \"!\", \"!!\", \"!\", \"!!!\", \"#\", \"O\", \"#\", \"!\", \"#\", \"!!\"],\r\n",
    "      [\"X\", \"X\", \"O\", \"X\", \"!!!\", \"#\", \"!!!\", \"!!!\", \"X\", \"X\", \"X\", \"!\", \"#\", \"!!\"],\r\n",
    "      [\"O\", \"!!!\", \"!\", \"O\", \"#\", \"!\", \"!\", \"#\", \"X\", \"X\", \"#\", \"O\", \"!!\", \"!\"],\r\n",
    "      [\"X\", \"!\", \"!!\", \"#\", \"#\", \"X\", \"!!\", \"O\", \"!!\", \"X\", \"X\", \"!!\", \"#\", \"X\"],\r\n",
    "      [\"!\", \"!!\", \"!!\", \"O\", \"!!\", \"!!\", \"#\", \"#\", \"!\", \"!!!\", \"O\", \"!\", \"#\", \"#\"],\r\n",
    "      [\"!\", \"!!!\", \"!!\", \"X\", \"!!\", \"!!\", \"#\", \"!!!\", \"O\", \"!!\", \"!!!\", \"!\", \"!\", \"!\"],\r\n",
    "      [\"!!!\", \"!!!\", \"!!\", \"O\", \"!\", \"!\", \"!!!\", \"!!!\", \"!!\", \"!!\", \"X\", \"!\", \"#\", \"#\"],\r\n",
    "      [\"O\", \"O\", \"#\", \"O\", \"#\", \"!\", \"!!!\", \"X\", \"X\", \"O\", \"!\", \"!!!\", \"X\", \"O\"]\r\n",
    "    ]) ➞ 12\r\n",
    "```"
   ],
   "metadata": {}
  },
  {
   "cell_type": "code",
   "execution_count": 12,
   "source": [
    "def check_score(params):\r\n",
    "    new_dict = {\"#\" : 5, \"O\" : 3, \"X\" : 1, \"!\" : -1, \"!!\" : -3, \"!!!\" : -5 }\r\n",
    "\r\n",
    "    count = 0\r\n",
    "    total = 0\r\n",
    "\r\n",
    "    for i in params:\r\n",
    "        for ii in i:\r\n",
    "            count += new_dict[ii]\r\n",
    "\r\n",
    "        # print(count)\r\n",
    "        total += count\r\n",
    "        count = 0\r\n",
    "    # print(total)\r\n",
    "    if total < 0:\r\n",
    "        return 0\r\n",
    "    else:\r\n",
    "        return total\r\n",
    "         \r\n",
    "        \r\n"
   ],
   "outputs": [],
   "metadata": {}
  },
  {
   "cell_type": "markdown",
   "source": [
    "# QUESTİON - 2\r\n",
    "---\r\n",
    "\r\n",
    "## The Snake — Area Filling\r\n",
    "\r\n",
    "This challenge is based on the classic videogame \"Snake\".\r\n",
    "\r\n",
    "Assume the game screen is an **n * n** square, and the snake starts the game with length 1 (i.e. just the head) positioned on the top left corner.\r\n",
    "\r\n",
    "For example, if n = 7 the game looks something like this:\r\n",
    "\r\n",
    "![file1-q2.png](./source/file1-q2.png)\r\n",
    "\r\n",
    "\r\n",
    "In this version of the game, the length of the snake doubles each time it eats food (e.g. if the length is 4, after eating it becomes 8).\r\n",
    "\r\n",
    "Create a function that takes the side n of the game screen and returns the number of times the snake can eat before it runs out of space in the game screen.\r\n",
    "\r\n",
    "**Examples**\r\n",
    ">snakefill(3) ➞ 3\r\n",
    "\r\n",
    ">snakefill(6) ➞ 5\r\n",
    "\r\n",
    ">snakefill(24) ➞ 9\r\n",
    "\r\n",
    "**Notes**\r\n",
    "- The given number will always be a positive integer (there are no exceptions to handle)."
   ],
   "metadata": {}
  },
  {
   "cell_type": "code",
   "execution_count": 11,
   "source": [
    "def snakefill(param):\r\n",
    "    count = 0\r\n",
    "    size = 1\r\n",
    "    while (param * param ) / size > 2:\r\n",
    "        size = size * 2\r\n",
    "        # print(size)\r\n",
    "        count += 1\r\n",
    "        # print(count)\r\n",
    "    return count"
   ],
   "outputs": [],
   "metadata": {}
  },
  {
   "cell_type": "code",
   "execution_count": 12,
   "source": [
    "print(snakefill(24))"
   ],
   "outputs": [
    {
     "output_type": "stream",
     "name": "stdout",
     "text": [
      "9\n"
     ]
    }
   ],
   "metadata": {}
  }
 ],
 "metadata": {
  "orig_nbformat": 4,
  "language_info": {
   "name": "python",
   "version": "3.9.6",
   "mimetype": "text/x-python",
   "codemirror_mode": {
    "name": "ipython",
    "version": 3
   },
   "pygments_lexer": "ipython3",
   "nbconvert_exporter": "python",
   "file_extension": ".py"
  },
  "kernelspec": {
   "name": "python3",
   "display_name": "Python 3.9.6 64-bit"
  },
  "interpreter": {
   "hash": "88235260e9f937f3ff47077a9833bd167c34ec72878758c39d1cfa9789a0b5fc"
  }
 },
 "nbformat": 4,
 "nbformat_minor": 2
}