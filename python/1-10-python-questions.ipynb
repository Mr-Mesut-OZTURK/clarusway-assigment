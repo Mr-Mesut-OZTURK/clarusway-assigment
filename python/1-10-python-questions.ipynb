{
 "cells": [
  {
   "cell_type": "markdown",
   "source": [
    "# QUESTİON - 1\r\n",
    "------\r\n",
    "## Add the Values of the Symbols in a Matrix\r\n",
    "\r\n",
    "Write a function that takes a list of lists and returns the value of all of the symbols in it, where each symbol adds or takes something from the total score. Symbol values:\r\n",
    "\r\n",
    "\r\n",
    "  - \\# = 5\r\n",
    "  - O = 3\r\n",
    "  - X = 1\r\n",
    "  - ! = -1\r\n",
    "  - !! = -3\r\n",
    "  - !!! = -5\r\n",
    "\r\n",
    ">A list of lists containing 2 #s, a O, and a !!! would equal (0 + 5 + 5 + 3 - 5) 8.\r\n",
    "#\r\n",
    ">If the final score is negative, return 0 (e.g. 3 #s, 3 !!s, 2 !!!s and a X would be (0 + 5 + 5 + 5 - 3 - 3 - 3 - 5 - 5 + 1) -3, so return 0.\r\n",
    "#\r\n",
    "---\r\n",
    "\r\n",
    "```python\r\n",
    "    check_score([\r\n",
    "      [\"#\", \"!\"],\r\n",
    "      [\"!!\", \"X\"]\r\n",
    "    ]) ➞ 2\r\n",
    "\r\n",
    "    check_score([\r\n",
    "      [\"!!!\", \"O\", \"!\"],\r\n",
    "      [\"X\", \"#\", \"!!!\"],\r\n",
    "      [\"!!\", \"X\", \"O\"]\r\n",
    "    ]) ➞ 0\r\n",
    "\r\n",
    "    check_score([\r\n",
    "      [\"#\", \"O\", \"#\", \"!!\", \"X\", \"!!\", \"#\", \"O\", \"O\", \"!!\", \"#\", \"X\", \"#\", \"O\"],\r\n",
    "      [\"!!!\", \"!!!\", \"!!\", \"!!\", \"!\", \"!\", \"X\", \"!\", \"!!!\", \"O\", \"!\", \"!!!\", \"X\", \"#\"],\r\n",
    "      [\"#\", \"X\", \"#\", \"!!!\", \"!\", \"!!\", \"#\", \"#\", \"!!\", \"X\", \"!!\", \"!!!\", \"X\", \"O\"],\r\n",
    "      [\"!!\", \"X\", \"!!\", \"!!\", \"!!!\", \"#\", \"O\", \"O\", \"!!!\", \"#\", \"O\", \"O\", \"#\", \"!!\"],\r\n",
    "      [\"O\", \"X\", \"#\", \"!\", \"!\", \"X\", \"!!!\", \"O\", \"!!!\", \"!!\", \"O\", \"!\", \"O\", \"X\"],\r\n",
    "      [\"!!\", \"!!!\", \"X\", \"!!!\", \"!!\", \"!!\", \"!!!\", \"X\", \"O\", \"!\", \"#\", \"!!\", \"!!\", \"!!!\"],\r\n",
    "      [\"!!\", \"!!\", \"#\", \"O\", \"!\", \"!!\", \"!\", \"!!!\", \"#\", \"O\", \"#\", \"!\", \"#\", \"!!\"],\r\n",
    "      [\"X\", \"X\", \"O\", \"X\", \"!!!\", \"#\", \"!!!\", \"!!!\", \"X\", \"X\", \"X\", \"!\", \"#\", \"!!\"],\r\n",
    "      [\"O\", \"!!!\", \"!\", \"O\", \"#\", \"!\", \"!\", \"#\", \"X\", \"X\", \"#\", \"O\", \"!!\", \"!\"],\r\n",
    "      [\"X\", \"!\", \"!!\", \"#\", \"#\", \"X\", \"!!\", \"O\", \"!!\", \"X\", \"X\", \"!!\", \"#\", \"X\"],\r\n",
    "      [\"!\", \"!!\", \"!!\", \"O\", \"!!\", \"!!\", \"#\", \"#\", \"!\", \"!!!\", \"O\", \"!\", \"#\", \"#\"],\r\n",
    "      [\"!\", \"!!!\", \"!!\", \"X\", \"!!\", \"!!\", \"#\", \"!!!\", \"O\", \"!!\", \"!!!\", \"!\", \"!\", \"!\"],\r\n",
    "      [\"!!!\", \"!!!\", \"!!\", \"O\", \"!\", \"!\", \"!!!\", \"!!!\", \"!!\", \"!!\", \"X\", \"!\", \"#\", \"#\"],\r\n",
    "      [\"O\", \"O\", \"#\", \"O\", \"#\", \"!\", \"!!!\", \"X\", \"X\", \"O\", \"!\", \"!!!\", \"X\", \"O\"]\r\n",
    "    ]) ➞ 12\r\n",
    "```"
   ],
   "metadata": {}
  },
  {
   "cell_type": "code",
   "execution_count": 12,
   "source": [
    "def check_score(params):\r\n",
    "    new_dict = {\"#\" : 5, \"O\" : 3, \"X\" : 1, \"!\" : -1, \"!!\" : -3, \"!!!\" : -5 }\r\n",
    "\r\n",
    "    count = 0\r\n",
    "    total = 0\r\n",
    "\r\n",
    "    for i in params:\r\n",
    "        for ii in i:\r\n",
    "            count += new_dict[ii]\r\n",
    "\r\n",
    "        # print(count)\r\n",
    "        total += count\r\n",
    "        count = 0\r\n",
    "    # print(total)\r\n",
    "    if total < 0:\r\n",
    "        return 0\r\n",
    "    else:\r\n",
    "        return total\r\n",
    "         \r\n",
    "        \r\n"
   ],
   "outputs": [],
   "metadata": {}
  },
  {
   "cell_type": "markdown",
   "source": [
    "# QUESTİON - 2\r\n",
    "---\r\n",
    "\r\n",
    "## The Snake — Area Filling\r\n",
    "\r\n",
    "This challenge is based on the classic videogame \"Snake\".\r\n",
    "\r\n",
    "Assume the game screen is an **n * n** square, and the snake starts the game with length 1 (i.e. just the head) positioned on the top left corner.\r\n",
    "\r\n",
    "For example, if n = 7 the game looks something like this:\r\n",
    "\r\n",
    "![file1-q2.png](./source/file1-q2.png)\r\n",
    "\r\n",
    "\r\n",
    "In this version of the game, the length of the snake doubles each time it eats food (e.g. if the length is 4, after eating it becomes 8).\r\n",
    "\r\n",
    "Create a function that takes the side n of the game screen and returns the number of times the snake can eat before it runs out of space in the game screen.\r\n",
    "\r\n",
    "**Examples**\r\n",
    ">snakefill(3) ➞ 3\r\n",
    "#\r\n",
    ">snakefill(6) ➞ 5\r\n",
    "#\r\n",
    ">snakefill(24) ➞ 9\r\n",
    "\r\n",
    "**Notes**\r\n",
    "- The given number will always be a positive integer (there are no exceptions to handle)."
   ],
   "metadata": {}
  },
  {
   "cell_type": "code",
   "execution_count": 11,
   "source": [
    "def snakefill(param):\r\n",
    "    count = 0\r\n",
    "    size = 1\r\n",
    "    while (param * param ) / size > 2:\r\n",
    "        size = size * 2\r\n",
    "        # print(size)\r\n",
    "        count += 1\r\n",
    "        # print(count)\r\n",
    "    return count"
   ],
   "outputs": [],
   "metadata": {}
  },
  {
   "cell_type": "markdown",
   "source": [
    "# QUESTİON - 3\r\n",
    "---\r\n",
    "\r\n",
    "## Combinations\r\n",
    "\r\n",
    "Create a function that takes a variable number of arguments, each argument representing the number of items in a group, and returns the number of permutations (combinations) of items that you could get by taking one item from each group.\r\n",
    "\r\n",
    "**Examples**\r\n",
    "\r\n",
    ">combinations(2, 3) ➞ 6\r\n",
    "#\r\n",
    ">combinations(3, 7, 4) ➞ 84\r\n",
    "#\r\n",
    ">combinations(2, 3, 4, 5) ➞ 120\r\n",
    "\r\n",
    "#\r\n",
    "\r\n",
    "**Notes**\r\n",
    "- Don't overthink this one.\r\n",
    "- Input may include the number zero."
   ],
   "metadata": {}
  },
  {
   "cell_type": "code",
   "execution_count": 68,
   "source": [
    "def combinations(*params):\r\n",
    "    total = 1\r\n",
    "    for i in params:\r\n",
    "        print(\"i\",i)\r\n",
    "        if i < 1:\r\n",
    "            continue\r\n",
    "        total *= i\r\n",
    "        print(\"total\",total)\r\n",
    "\r\n",
    "    return total\r\n"
   ],
   "outputs": [],
   "metadata": {}
  },
  {
   "cell_type": "markdown",
   "source": [
    "# QUESTİON - 4\r\n",
    "---\r\n",
    "\r\n",
    "# Paint the Walls\r\n",
    "\r\n",
    "Given a predetermined rate from a dictionary, write the function that will return the time it takes for a certain amount of people to paint a certain amount of walls.\r\n",
    "\r\n",
    "The \"rate\" dictionary shows how many minutes it takes \"people\" people to paint \"walls\" walls. At that same rate, how long should it take based on the new variables. Return the minutes as an integer. No rounding is necessary.\r\n",
    "\r\n",
    "**Example**\r\n",
    ">  - It takes 22 minutes for 10 people to paint 10 walls.\r\n",
    ">  - How many minutes does it take 14 people to paint 14 walls?\r\n",
    "\r\n",
    "#\r\n",
    "\r\n",
    "```\r\n",
    "rate = {\r\n",
    "    \"people\": 10,\r\n",
    "    \"walls\": 10,\r\n",
    "    \"minutes\": 22\r\n",
    "  }\r\n",
    "```\r\n",
    "\r\n",
    "> time(rate, people, walls) ➞ 22\r\n",
    "\r\n",
    "\r\n",
    "**Notes**\r\n",
    "\r\n",
    "- Check the Resources tab if you get stuck.\r\n",
    "\r\n"
   ],
   "metadata": {}
  },
  {
   "cell_type": "code",
   "execution_count": 42,
   "source": [
    "def time(rate, people, wall):\r\n",
    "    one_person_one_wall_time = (rate[\"people\"] * rate[\"minutes\"]) / rate[\"walls\"]\r\n",
    "    result = (one_person_one_wall_time * wall) / people\r\n",
    "    return int(result)\r\n"
   ],
   "outputs": [],
   "metadata": {}
  },
  {
   "cell_type": "markdown",
   "source": [
    "# QUESTİON - 5\r\n",
    "---\r\n",
    "\r\n",
    "## Return the Remainder from Two Numbers\r\n",
    "\r\n",
    "There is a single operator in Python, capable of providing the remainder of a division operation. Two numbers are passed as parameters. The first parameter divided by the second parameter will have a remainder, possibly zero. Return that value.\r\n",
    "\r\n",
    "**Examples**\r\n",
    "> remainder(1, 3) ➞ 1\r\n",
    "#\r\n",
    "> remainder(3, 4) ➞ 3\r\n",
    "#\r\n",
    "> remainder(5, 5) ➞ 0\r\n",
    "#\r\n",
    "> remainder(7, 2) ➞ 1\r\n",
    "\r\n",
    "**Notes**\r\n",
    "- The tests only use positive integers.\r\n",
    "- Don't forget to return the result.\r\n",
    "- If you get stuck on a challenge, find help in the Resources tab."
   ],
   "metadata": {}
  },
  {
   "cell_type": "code",
   "execution_count": 65,
   "source": [
    "def remainder(x, y):\r\n",
    "    if x > 0 and y > 0:\r\n",
    "        result = x % y\r\n",
    "        return result\r\n",
    "    else:\r\n",
    "        print(\"Only positive numbers!...\")\r\n",
    "\r\n",
    "    # return  (((x > 0) and (y > 0)) and x % y) or \"Only positive numbers!...\"\r\n"
   ],
   "outputs": [
    {
     "output_type": "execute_result",
     "data": {
      "text/plain": [
       "'Only positive numbers!...'"
      ]
     },
     "metadata": {},
     "execution_count": 65
    }
   ],
   "metadata": {}
  },
  {
   "cell_type": "markdown",
   "source": [
    "# QUESTİON - 6\r\n",
    "---\r\n",
    "\r\n",
    "## Encode Morse\r\n",
    "\r\n",
    "Create a function that takes a string as an argument and returns the Morse code equivalent.\r\n",
    "\r\n",
    "**Examples**\r\n",
    "\r\n",
    "> encode_morse(\"EDABBIT CHALLENGE\") ➞ \". -.. .- -... -... .. -   -.-. .... .- .-.. .-.. . -. --. .\"\r\n",
    "\r\n",
    "> encode_morse(\"HELP ME !\") ➞ \".... . .-.. .--.   -- .   -.-.--\"\r\n",
    "\r\n",
    "This dictionary can be used for coding:\r\n",
    "\r\n",
    "```\r\n",
    "char_to_dots = {\r\n",
    "  'A': '.-', 'B': '-...', 'C': '-.-.', 'D': '-..', 'E': '.', 'F': '..-.',\r\n",
    "  'G': '--.', 'H': '....', 'I': '..', 'J': '.---', 'K': '-.-', 'L': '.-..',\r\n",
    "  'M': '--', 'N': '-.', 'O': '---', 'P': '.--.', 'Q': '--.-', 'R': '.-.',\r\n",
    "  'S': '...', 'T': '-', 'U': '..-', 'V': '...-', 'W': '.--', 'X': '-..-',\r\n",
    "  'Y': '-.--', 'Z': '--..', ' ': ' ', '0': '-----',\r\n",
    "  '1': '.----', '2': '..---', '3': '...--', '4': '....-', '5': '.....',\r\n",
    "  '6': '-....', '7': '--...', '8': '---..', '9': '----.',\r\n",
    "  '&': '.-...', \"'\": '.----.', '@': '.--.-.', ')': '-.--.-', '(': '-.--.',\r\n",
    "  ':': '---...', ',': '--..--', '=': '-...-', '!': '-.-.--', '.': '.-.-.-',\r\n",
    "  '-': '-....-', '+': '.-.-.', '\"': '.-..-.', '?': '..--..', '/': '-..-.'\r\n",
    "}\r\n",
    "```\r\n",
    "\r\n",
    "**Notes**\r\n",
    "\r\n",
    "- Ouput should be International Morse Code, and use the standard conventions for symbols not defined inside the ITU recommendation (see Resources).\r\n",
    "- Input value can be lower or upper case.\r\n",
    "- Input string can have digits.\r\n",
    "- Input string can have some special characters (e.g. comma, colon, apostrophe, period, question mark, exclamation mark).\r\n",
    "- One space \" \" is expected after each character, except the last one.\r\n",
    "#"
   ],
   "metadata": {}
  },
  {
   "cell_type": "code",
   "execution_count": 60,
   "source": [
    "def encode_morse(param):\r\n",
    "    char_to_dots = {\r\n",
    "                'A': '.-', 'B': '-...', 'C': '-.-.', 'D': '-..', 'E': '.', 'F': '..-.',\r\n",
    "                'G': '--.', 'H': '....', 'I': '..', 'J': '.---', 'K': '-.-', 'L': '.-..',\r\n",
    "                'M': '--', 'N': '-.', 'O': '---', 'P': '.--.', 'Q': '--.-', 'R': '.-.',\r\n",
    "                'S': '...', 'T': '-', 'U': '..-', 'V': '...-', 'W': '.--', 'X': '-..-',\r\n",
    "                'Y': '-.--', 'Z': '--..', ' ': ' ', '0': '-----',\r\n",
    "                '1': '.----', '2': '..---', '3': '...--', '4': '....-', '5': '.....',\r\n",
    "                '6': '-....', '7': '--...', '8': '---..', '9': '----.',\r\n",
    "                '&': '.-...', \"'\": '.----.', '@': '.--.-.', ')': '-.--.-', '(': '-.--.',\r\n",
    "                ':': '---...', ',': '--..--', '=': '-...-', '!': '-.-.--', '.': '.-.-.-',\r\n",
    "                '-': '-....-', '+': '.-.-.', '\"': '.-..-.', '?': '..--..', '/': '-..-.'\r\n",
    "                }\r\n",
    "    new_list = list(param.upper())\r\n",
    "    string = \"\"\r\n",
    "    for i in new_list:\r\n",
    "        # print(i,char_to_dots[i])\r\n",
    "        string += char_to_dots[i] + \" \"\r\n",
    "    # print(string)\r\n",
    "    return string.strip()\r\n",
    "\r\n",
    "    #return ' '.join([char_to_dots[i] for i in param.upper()])\r\n",
    "\r\n",
    "\r\n",
    "encode_morse(\"HELP ME !\")"
   ],
   "outputs": [
    {
     "output_type": "execute_result",
     "data": {
      "text/plain": [
       "'.... . .-.. .--.   -- .   -.-.--'"
      ]
     },
     "metadata": {},
     "execution_count": 60
    }
   ],
   "metadata": {}
  },
  {
   "cell_type": "markdown",
   "source": [
    "# QUESTİON - 7\r\n",
    "---\r\n",
    "\r\n",
    "## 3n + 1 Problem (Collatz Conjecture)\r\n",
    "\r\n",
    "A Collatz sequence is generated by repeatedly applying the following rules to an integer and then to each resulting integer in turn:\r\n",
    "\r\n",
    "- If even: divide by 2.\r\n",
    "- If odd: multiply by 3, then add 1.\r\n",
    "\r\n",
    "The Collatz algorithm has been tested and found to always reach 1 for all positive integers.\r\n",
    "\r\n",
    "Create a function that, when given two positive integers a b, returns the string \"a\" if integer a took fewer steps to reach 1 than b when passed through the Collatz sequence, or \"b\" if integer b took fewer steps to reach 1 than a.\r\n",
    "\r\n",
    "**Examples**\r\n",
    "\r\n",
    "> collatz(10, 15) ➞ \"a\"\r\n",
    "> - Because 10.0 - 5.0 - 16.0 - 8.0 - 4.0 - 2.0 - 1.0: 6 steps\r\n",
    "> - 15.0 - 46.0 - 23.0 - 70.0 - 35.0 - 106.0 - 53.0 - 160.0 - 80.0 - 40.0 - 20.0 - 10.0 - 5.0 - 16.0 - 8.0 - 4.0 - 2.0 - 1.0: 17 steps\r\n",
    "> ---\r\n",
    "\r\n",
    "#\r\n",
    "\r\n",
    "> collatz(13, 16) ➞ \"b\"\r\n",
    "#\r\n",
    ">collatz(53782, 72534) ➞ \"b\"\r\n",
    "\r\n",
    "**Notes**<br>\r\n",
    "Assume a and b never take the same number of steps to reach 1."
   ],
   "metadata": {}
  },
  {
   "cell_type": "code",
   "execution_count": 94,
   "source": [
    "def collatz(*params):\r\n",
    "    c_list = []\r\n",
    "    for a in params:\r\n",
    "        count = 0\r\n",
    "        while a != 1:\r\n",
    "            if a % 2 == 0:\r\n",
    "                a = a //2\r\n",
    "            else:\r\n",
    "                a = 3 * a + 1\r\n",
    "            count +=  1\r\n",
    "        c_list.append(count)\r\n",
    "    # return c_list[0] < c_list[1] and \"a\" or \"b\"\r\n",
    "    return \"a\" if c_list[0] < c_list[1] else \"b\"\r\n"
   ],
   "outputs": [
    {
     "output_type": "stream",
     "name": "stdout",
     "text": [
      "a\n"
     ]
    }
   ],
   "metadata": {}
  },
  {
   "cell_type": "markdown",
   "source": [
    "# QUESTİON - 8\r\n",
    "---\r\n",
    "\r\n",
    "## Basic Arithmetic Operations on a String Number\r\n",
    "\r\n",
    "Create a function to perform basic arithmetic operations that includes addition, subtraction, multiplication and division on a string number (e.g. \"12 + 24\" or \"23 - 21\" or \"12 // 12\" or \"12 * 21\").\r\n",
    "\r\n",
    "Here, we have 1 followed by a space, operator followed by another space and 2. For the challenge, we are going to have only two numbers between 1 valid operator. The return value should be a number.\r\n",
    "\r\n",
    "**eval()** is not allowed. In case of division, whenever the second number equals \"0\" return -1.\r\n",
    "\r\n",
    "**For example:**\r\n",
    "\r\n",
    "> \"15 // 0\"  ➞ -1\r\n",
    "\r\n",
    "**Examples**\r\n",
    "\r\n",
    "> arithmetic_operation(\"12 + 12\") ➞ 24 // 12 + 12 = 24\r\n",
    "#\r\n",
    "> arithmetic_operation(\"12 - 12\") ➞ 24 // 12 - 12 = 0\r\n",
    "#\r\n",
    "> arithmetic_operation(\"12 * 12\") ➞ 144 // 12 * 12 = 144\r\n",
    "#\r\n",
    "> arithmetic_operation(\"12 // 0\") ➞ -1 // 12 / 0 = -1\r\n",
    "\r\n",
    "**Notes**\r\n",
    "- All the inputs are only integers.\r\n",
    "- The operators are * - + and //.\r\n",
    "- Hint: Think about the single space that appears before and after the arithmetic operator."
   ],
   "metadata": {}
  },
  {
   "cell_type": "code",
   "execution_count": 137,
   "source": [
    "def arithmetic_operation(param):\r\n",
    "    new_list = [\"*\", \"-\", \"+\",  \"//\"]\r\n",
    "\r\n",
    "    result = \"It is not a correct expression!..\"\r\n",
    "\r\n",
    "    for i in new_list:\r\n",
    "        if param.find(i) != -1:\r\n",
    "\r\n",
    "            nums = [int(j) for j in param.split(i)]\r\n",
    "\r\n",
    "            if 0 == nums[-1]: result= -1\r\n",
    "            elif i == \"+\": result = nums[0] + nums[1]\r\n",
    "            elif i == \"-\": result = nums[0] - nums[1]\r\n",
    "            elif i == \"*\": result = nums[0] * nums[1]\r\n",
    "            elif i ==\"//\": result = nums[0] //nums[1]\r\n",
    "\r\n",
    "    return result\r\n",
    "\r\n",
    "print(arithmetic_operation(\"12 // 2\"))"
   ],
   "outputs": [
    {
     "output_type": "error",
     "ename": "NameError",
     "evalue": "name 'work' is not defined",
     "traceback": [
      "\u001b[1;31m---------------------------------------------------------------------------\u001b[0m",
      "\u001b[1;31mNameError\u001b[0m                                 Traceback (most recent call last)",
      "\u001b[1;32m<ipython-input-137-a97528167f53>\u001b[0m in \u001b[0;36m<module>\u001b[1;34m\u001b[0m\n\u001b[0;32m     17\u001b[0m     \u001b[1;32mreturn\u001b[0m \u001b[0mresult\u001b[0m\u001b[1;33m\u001b[0m\u001b[1;33m\u001b[0m\u001b[0m\n\u001b[0;32m     18\u001b[0m \u001b[1;33m\u001b[0m\u001b[0m\n\u001b[1;32m---> 19\u001b[1;33m \u001b[0mprint\u001b[0m\u001b[1;33m(\u001b[0m\u001b[0marithmetic_operation\u001b[0m\u001b[1;33m(\u001b[0m\u001b[1;34m\"12 // 2\"\u001b[0m\u001b[1;33m)\u001b[0m\u001b[1;33m)\u001b[0m\u001b[1;33m\u001b[0m\u001b[1;33m\u001b[0m\u001b[0m\n\u001b[0m",
      "\u001b[1;32m<ipython-input-137-a97528167f53>\u001b[0m in \u001b[0;36marithmetic_operation\u001b[1;34m(param)\u001b[0m\n\u001b[0;32m      9\u001b[0m             \u001b[0mnums\u001b[0m \u001b[1;33m=\u001b[0m \u001b[1;33m[\u001b[0m\u001b[0mint\u001b[0m\u001b[1;33m(\u001b[0m\u001b[0mj\u001b[0m\u001b[1;33m)\u001b[0m \u001b[1;32mfor\u001b[0m \u001b[0mj\u001b[0m \u001b[1;32min\u001b[0m \u001b[0mparam\u001b[0m\u001b[1;33m.\u001b[0m\u001b[0msplit\u001b[0m\u001b[1;33m(\u001b[0m\u001b[0mi\u001b[0m\u001b[1;33m)\u001b[0m\u001b[1;33m]\u001b[0m\u001b[1;33m\u001b[0m\u001b[1;33m\u001b[0m\u001b[0m\n\u001b[0;32m     10\u001b[0m \u001b[1;33m\u001b[0m\u001b[0m\n\u001b[1;32m---> 11\u001b[1;33m             \u001b[1;32mif\u001b[0m \u001b[1;36m0\u001b[0m \u001b[1;33m==\u001b[0m \u001b[0mwork\u001b[0m\u001b[1;33m[\u001b[0m\u001b[1;33m-\u001b[0m\u001b[1;36m1\u001b[0m\u001b[1;33m]\u001b[0m\u001b[1;33m:\u001b[0m \u001b[0mresult\u001b[0m\u001b[1;33m=\u001b[0m \u001b[1;33m-\u001b[0m\u001b[1;36m1\u001b[0m\u001b[1;33m\u001b[0m\u001b[1;33m\u001b[0m\u001b[0m\n\u001b[0m\u001b[0;32m     12\u001b[0m             \u001b[1;32melif\u001b[0m \u001b[0mi\u001b[0m \u001b[1;33m==\u001b[0m \u001b[1;34m\"+\"\u001b[0m\u001b[1;33m:\u001b[0m \u001b[0mresult\u001b[0m \u001b[1;33m=\u001b[0m \u001b[0mnums\u001b[0m\u001b[1;33m[\u001b[0m\u001b[1;36m0\u001b[0m\u001b[1;33m]\u001b[0m \u001b[1;33m+\u001b[0m \u001b[0mnums\u001b[0m\u001b[1;33m[\u001b[0m\u001b[1;36m1\u001b[0m\u001b[1;33m]\u001b[0m\u001b[1;33m\u001b[0m\u001b[1;33m\u001b[0m\u001b[0m\n\u001b[0;32m     13\u001b[0m             \u001b[1;32melif\u001b[0m \u001b[0mi\u001b[0m \u001b[1;33m==\u001b[0m \u001b[1;34m\"-\"\u001b[0m\u001b[1;33m:\u001b[0m \u001b[0mresult\u001b[0m \u001b[1;33m=\u001b[0m \u001b[0mnums\u001b[0m\u001b[1;33m[\u001b[0m\u001b[1;36m0\u001b[0m\u001b[1;33m]\u001b[0m \u001b[1;33m-\u001b[0m \u001b[0mnums\u001b[0m\u001b[1;33m[\u001b[0m\u001b[1;36m1\u001b[0m\u001b[1;33m]\u001b[0m\u001b[1;33m\u001b[0m\u001b[1;33m\u001b[0m\u001b[0m\n",
      "\u001b[1;31mNameError\u001b[0m: name 'work' is not defined"
     ]
    }
   ],
   "metadata": {}
  },
  {
   "cell_type": "markdown",
   "source": [
    "# QUESTİON - 9\r\n",
    "---\r\n",
    "\r\n"
   ],
   "metadata": {}
  },
  {
   "cell_type": "code",
   "execution_count": null,
   "source": [],
   "outputs": [],
   "metadata": {}
  },
  {
   "cell_type": "markdown",
   "source": [
    "# QUESTİON - 10\r\n",
    "---\r\n",
    "\r\n"
   ],
   "metadata": {}
  },
  {
   "cell_type": "code",
   "execution_count": null,
   "source": [],
   "outputs": [],
   "metadata": {}
  }
 ],
 "metadata": {
  "orig_nbformat": 4,
  "language_info": {
   "name": "python",
   "version": "3.9.6",
   "mimetype": "text/x-python",
   "codemirror_mode": {
    "name": "ipython",
    "version": 3
   },
   "pygments_lexer": "ipython3",
   "nbconvert_exporter": "python",
   "file_extension": ".py"
  },
  "kernelspec": {
   "name": "python3",
   "display_name": "Python 3.9.6 64-bit"
  },
  "interpreter": {
   "hash": "88235260e9f937f3ff47077a9833bd167c34ec72878758c39d1cfa9789a0b5fc"
  }
 },
 "nbformat": 4,
 "nbformat_minor": 2
}